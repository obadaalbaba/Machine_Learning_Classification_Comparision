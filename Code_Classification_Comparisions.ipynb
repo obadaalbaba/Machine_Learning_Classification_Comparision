{
  "nbformat": 4,
  "nbformat_minor": 0,
  "metadata": {
    "colab": {
      "name": "Project_ChemEng787.ipynb",
      "provenance": [],
      "collapsed_sections": []
    },
    "kernelspec": {
      "name": "python3",
      "display_name": "Python 3"
    }
  },
  "cells": [
    {
      "cell_type": "code",
      "metadata": {
        "id": "n2rZCubgaVCy"
      },
      "source": [
        "#import relevant libraries and function\n",
        "from google.colab import files\n",
        "from pandas import read_csv\n",
        "from sklearn.neighbors import KNeighborsClassifier\n",
        "from sklearn.metrics import classification_report, confusion_matrix\n",
        "import numpy as np\n",
        "from sklearn import model_selection\n",
        "import time\n",
        "import matplotlib.pyplot as plt\n",
        "np.random.seed(6)\n",
        "import math"
      ],
      "execution_count": null,
      "outputs": []
    },
    {
      "cell_type": "code",
      "metadata": {
        "id": "6EFV_W4akzXx"
      },
      "source": [
        "#define relevent functions such as PCA\n",
        "\n",
        "def PCA(X , num_of_components):\n",
        "     \n",
        "    #mean center the X matrix\n",
        "    X_meaned = X - np.mean(X , axis = 0)\n",
        "     \n",
        "    #evaluate covarience matrix\n",
        "    cov_mat = np.cov(X_meaned , rowvar = False)\n",
        "     \n",
        "    #evaluate eigen values/vectors\n",
        "    eigen_values , eigen_vectors = np.linalg.eigh(cov_mat)\n",
        "     \n",
        "    #sort eigen values/vectors\n",
        "    sorted_index = np.argsort(eigen_values)[::-1]\n",
        "    sorted_eigenvalues = eigen_values[sorted_index]\n",
        "    sorted_eigenvectors = eigen_vectors[:,sorted_index]\n",
        "     \n",
        "    #Step-5\n",
        "    eigenvector_subset = sorted_eigenvectors[:,0:num_of_components]\n",
        "     \n",
        "    #Step-6\n",
        "    X_reduced = np.dot(eigenvector_subset.transpose() , X_meaned.transpose() ).transpose()\n",
        "     \n",
        "    return X_reduced, eigenvector_subset.transpose()"
      ],
      "execution_count": null,
      "outputs": []
    },
    {
      "cell_type": "code",
      "metadata": {
        "colab": {
          "resources": {
            "http://localhost:8080/nbextensions/google.colab/files.js": {
              "data": "Ly8gQ29weXJpZ2h0IDIwMTcgR29vZ2xlIExMQwovLwovLyBMaWNlbnNlZCB1bmRlciB0aGUgQXBhY2hlIExpY2Vuc2UsIFZlcnNpb24gMi4wICh0aGUgIkxpY2Vuc2UiKTsKLy8geW91IG1heSBub3QgdXNlIHRoaXMgZmlsZSBleGNlcHQgaW4gY29tcGxpYW5jZSB3aXRoIHRoZSBMaWNlbnNlLgovLyBZb3UgbWF5IG9idGFpbiBhIGNvcHkgb2YgdGhlIExpY2Vuc2UgYXQKLy8KLy8gICAgICBodHRwOi8vd3d3LmFwYWNoZS5vcmcvbGljZW5zZXMvTElDRU5TRS0yLjAKLy8KLy8gVW5sZXNzIHJlcXVpcmVkIGJ5IGFwcGxpY2FibGUgbGF3IG9yIGFncmVlZCB0byBpbiB3cml0aW5nLCBzb2Z0d2FyZQovLyBkaXN0cmlidXRlZCB1bmRlciB0aGUgTGljZW5zZSBpcyBkaXN0cmlidXRlZCBvbiBhbiAiQVMgSVMiIEJBU0lTLAovLyBXSVRIT1VUIFdBUlJBTlRJRVMgT1IgQ09ORElUSU9OUyBPRiBBTlkgS0lORCwgZWl0aGVyIGV4cHJlc3Mgb3IgaW1wbGllZC4KLy8gU2VlIHRoZSBMaWNlbnNlIGZvciB0aGUgc3BlY2lmaWMgbGFuZ3VhZ2UgZ292ZXJuaW5nIHBlcm1pc3Npb25zIGFuZAovLyBsaW1pdGF0aW9ucyB1bmRlciB0aGUgTGljZW5zZS4KCi8qKgogKiBAZmlsZW92ZXJ2aWV3IEhlbHBlcnMgZm9yIGdvb2dsZS5jb2xhYiBQeXRob24gbW9kdWxlLgogKi8KKGZ1bmN0aW9uKHNjb3BlKSB7CmZ1bmN0aW9uIHNwYW4odGV4dCwgc3R5bGVBdHRyaWJ1dGVzID0ge30pIHsKICBjb25zdCBlbGVtZW50ID0gZG9jdW1lbnQuY3JlYXRlRWxlbWVudCgnc3BhbicpOwogIGVsZW1lbnQudGV4dENvbnRlbnQgPSB0ZXh0OwogIGZvciAoY29uc3Qga2V5IG9mIE9iamVjdC5rZXlzKHN0eWxlQXR0cmlidXRlcykpIHsKICAgIGVsZW1lbnQuc3R5bGVba2V5XSA9IHN0eWxlQXR0cmlidXRlc1trZXldOwogIH0KICByZXR1cm4gZWxlbWVudDsKfQoKLy8gTWF4IG51bWJlciBvZiBieXRlcyB3aGljaCB3aWxsIGJlIHVwbG9hZGVkIGF0IGEgdGltZS4KY29uc3QgTUFYX1BBWUxPQURfU0laRSA9IDEwMCAqIDEwMjQ7CgpmdW5jdGlvbiBfdXBsb2FkRmlsZXMoaW5wdXRJZCwgb3V0cHV0SWQpIHsKICBjb25zdCBzdGVwcyA9IHVwbG9hZEZpbGVzU3RlcChpbnB1dElkLCBvdXRwdXRJZCk7CiAgY29uc3Qgb3V0cHV0RWxlbWVudCA9IGRvY3VtZW50LmdldEVsZW1lbnRCeUlkKG91dHB1dElkKTsKICAvLyBDYWNoZSBzdGVwcyBvbiB0aGUgb3V0cHV0RWxlbWVudCB0byBtYWtlIGl0IGF2YWlsYWJsZSBmb3IgdGhlIG5leHQgY2FsbAogIC8vIHRvIHVwbG9hZEZpbGVzQ29udGludWUgZnJvbSBQeXRob24uCiAgb3V0cHV0RWxlbWVudC5zdGVwcyA9IHN0ZXBzOwoKICByZXR1cm4gX3VwbG9hZEZpbGVzQ29udGludWUob3V0cHV0SWQpOwp9CgovLyBUaGlzIGlzIHJvdWdobHkgYW4gYXN5bmMgZ2VuZXJhdG9yIChub3Qgc3VwcG9ydGVkIGluIHRoZSBicm93c2VyIHlldCksCi8vIHdoZXJlIHRoZXJlIGFyZSBtdWx0aXBsZSBhc3luY2hyb25vdXMgc3RlcHMgYW5kIHRoZSBQeXRob24gc2lkZSBpcyBnb2luZwovLyB0byBwb2xsIGZvciBjb21wbGV0aW9uIG9mIGVhY2ggc3RlcC4KLy8gVGhpcyB1c2VzIGEgUHJvbWlzZSB0byBibG9jayB0aGUgcHl0aG9uIHNpZGUgb24gY29tcGxldGlvbiBvZiBlYWNoIHN0ZXAsCi8vIHRoZW4gcGFzc2VzIHRoZSByZXN1bHQgb2YgdGhlIHByZXZpb3VzIHN0ZXAgYXMgdGhlIGlucHV0IHRvIHRoZSBuZXh0IHN0ZXAuCmZ1bmN0aW9uIF91cGxvYWRGaWxlc0NvbnRpbnVlKG91dHB1dElkKSB7CiAgY29uc3Qgb3V0cHV0RWxlbWVudCA9IGRvY3VtZW50LmdldEVsZW1lbnRCeUlkKG91dHB1dElkKTsKICBjb25zdCBzdGVwcyA9IG91dHB1dEVsZW1lbnQuc3RlcHM7CgogIGNvbnN0IG5leHQgPSBzdGVwcy5uZXh0KG91dHB1dEVsZW1lbnQubGFzdFByb21pc2VWYWx1ZSk7CiAgcmV0dXJuIFByb21pc2UucmVzb2x2ZShuZXh0LnZhbHVlLnByb21pc2UpLnRoZW4oKHZhbHVlKSA9PiB7CiAgICAvLyBDYWNoZSB0aGUgbGFzdCBwcm9taXNlIHZhbHVlIHRvIG1ha2UgaXQgYXZhaWxhYmxlIHRvIHRoZSBuZXh0CiAgICAvLyBzdGVwIG9mIHRoZSBnZW5lcmF0b3IuCiAgICBvdXRwdXRFbGVtZW50Lmxhc3RQcm9taXNlVmFsdWUgPSB2YWx1ZTsKICAgIHJldHVybiBuZXh0LnZhbHVlLnJlc3BvbnNlOwogIH0pOwp9CgovKioKICogR2VuZXJhdG9yIGZ1bmN0aW9uIHdoaWNoIGlzIGNhbGxlZCBiZXR3ZWVuIGVhY2ggYXN5bmMgc3RlcCBvZiB0aGUgdXBsb2FkCiAqIHByb2Nlc3MuCiAqIEBwYXJhbSB7c3RyaW5nfSBpbnB1dElkIEVsZW1lbnQgSUQgb2YgdGhlIGlucHV0IGZpbGUgcGlja2VyIGVsZW1lbnQuCiAqIEBwYXJhbSB7c3RyaW5nfSBvdXRwdXRJZCBFbGVtZW50IElEIG9mIHRoZSBvdXRwdXQgZGlzcGxheS4KICogQHJldHVybiB7IUl0ZXJhYmxlPCFPYmplY3Q+fSBJdGVyYWJsZSBvZiBuZXh0IHN0ZXBzLgogKi8KZnVuY3Rpb24qIHVwbG9hZEZpbGVzU3RlcChpbnB1dElkLCBvdXRwdXRJZCkgewogIGNvbnN0IGlucHV0RWxlbWVudCA9IGRvY3VtZW50LmdldEVsZW1lbnRCeUlkKGlucHV0SWQpOwogIGlucHV0RWxlbWVudC5kaXNhYmxlZCA9IGZhbHNlOwoKICBjb25zdCBvdXRwdXRFbGVtZW50ID0gZG9jdW1lbnQuZ2V0RWxlbWVudEJ5SWQob3V0cHV0SWQpOwogIG91dHB1dEVsZW1lbnQuaW5uZXJIVE1MID0gJyc7CgogIGNvbnN0IHBpY2tlZFByb21pc2UgPSBuZXcgUHJvbWlzZSgocmVzb2x2ZSkgPT4gewogICAgaW5wdXRFbGVtZW50LmFkZEV2ZW50TGlzdGVuZXIoJ2NoYW5nZScsIChlKSA9PiB7CiAgICAgIHJlc29sdmUoZS50YXJnZXQuZmlsZXMpOwogICAgfSk7CiAgfSk7CgogIGNvbnN0IGNhbmNlbCA9IGRvY3VtZW50LmNyZWF0ZUVsZW1lbnQoJ2J1dHRvbicpOwogIGlucHV0RWxlbWVudC5wYXJlbnRFbGVtZW50LmFwcGVuZENoaWxkKGNhbmNlbCk7CiAgY2FuY2VsLnRleHRDb250ZW50ID0gJ0NhbmNlbCB1cGxvYWQnOwogIGNvbnN0IGNhbmNlbFByb21pc2UgPSBuZXcgUHJvbWlzZSgocmVzb2x2ZSkgPT4gewogICAgY2FuY2VsLm9uY2xpY2sgPSAoKSA9PiB7CiAgICAgIHJlc29sdmUobnVsbCk7CiAgICB9OwogIH0pOwoKICAvLyBXYWl0IGZvciB0aGUgdXNlciB0byBwaWNrIHRoZSBmaWxlcy4KICBjb25zdCBmaWxlcyA9IHlpZWxkIHsKICAgIHByb21pc2U6IFByb21pc2UucmFjZShbcGlja2VkUHJvbWlzZSwgY2FuY2VsUHJvbWlzZV0pLAogICAgcmVzcG9uc2U6IHsKICAgICAgYWN0aW9uOiAnc3RhcnRpbmcnLAogICAgfQogIH07CgogIGNhbmNlbC5yZW1vdmUoKTsKCiAgLy8gRGlzYWJsZSB0aGUgaW5wdXQgZWxlbWVudCBzaW5jZSBmdXJ0aGVyIHBpY2tzIGFyZSBub3QgYWxsb3dlZC4KICBpbnB1dEVsZW1lbnQuZGlzYWJsZWQgPSB0cnVlOwoKICBpZiAoIWZpbGVzKSB7CiAgICByZXR1cm4gewogICAgICByZXNwb25zZTogewogICAgICAgIGFjdGlvbjogJ2NvbXBsZXRlJywKICAgICAgfQogICAgfTsKICB9CgogIGZvciAoY29uc3QgZmlsZSBvZiBmaWxlcykgewogICAgY29uc3QgbGkgPSBkb2N1bWVudC5jcmVhdGVFbGVtZW50KCdsaScpOwogICAgbGkuYXBwZW5kKHNwYW4oZmlsZS5uYW1lLCB7Zm9udFdlaWdodDogJ2JvbGQnfSkpOwogICAgbGkuYXBwZW5kKHNwYW4oCiAgICAgICAgYCgke2ZpbGUudHlwZSB8fCAnbi9hJ30pIC0gJHtmaWxlLnNpemV9IGJ5dGVzLCBgICsKICAgICAgICBgbGFzdCBtb2RpZmllZDogJHsKICAgICAgICAgICAgZmlsZS5sYXN0TW9kaWZpZWREYXRlID8gZmlsZS5sYXN0TW9kaWZpZWREYXRlLnRvTG9jYWxlRGF0ZVN0cmluZygpIDoKICAgICAgICAgICAgICAgICAgICAgICAgICAgICAgICAgICAgJ24vYSd9IC0gYCkpOwogICAgY29uc3QgcGVyY2VudCA9IHNwYW4oJzAlIGRvbmUnKTsKICAgIGxpLmFwcGVuZENoaWxkKHBlcmNlbnQpOwoKICAgIG91dHB1dEVsZW1lbnQuYXBwZW5kQ2hpbGQobGkpOwoKICAgIGNvbnN0IGZpbGVEYXRhUHJvbWlzZSA9IG5ldyBQcm9taXNlKChyZXNvbHZlKSA9PiB7CiAgICAgIGNvbnN0IHJlYWRlciA9IG5ldyBGaWxlUmVhZGVyKCk7CiAgICAgIHJlYWRlci5vbmxvYWQgPSAoZSkgPT4gewogICAgICAgIHJlc29sdmUoZS50YXJnZXQucmVzdWx0KTsKICAgICAgfTsKICAgICAgcmVhZGVyLnJlYWRBc0FycmF5QnVmZmVyKGZpbGUpOwogICAgfSk7CiAgICAvLyBXYWl0IGZvciB0aGUgZGF0YSB0byBiZSByZWFkeS4KICAgIGxldCBmaWxlRGF0YSA9IHlpZWxkIHsKICAgICAgcHJvbWlzZTogZmlsZURhdGFQcm9taXNlLAogICAgICByZXNwb25zZTogewogICAgICAgIGFjdGlvbjogJ2NvbnRpbnVlJywKICAgICAgfQogICAgfTsKCiAgICAvLyBVc2UgYSBjaHVua2VkIHNlbmRpbmcgdG8gYXZvaWQgbWVzc2FnZSBzaXplIGxpbWl0cy4gU2VlIGIvNjIxMTU2NjAuCiAgICBsZXQgcG9zaXRpb24gPSAwOwogICAgd2hpbGUgKHBvc2l0aW9uIDwgZmlsZURhdGEuYnl0ZUxlbmd0aCkgewogICAgICBjb25zdCBsZW5ndGggPSBNYXRoLm1pbihmaWxlRGF0YS5ieXRlTGVuZ3RoIC0gcG9zaXRpb24sIE1BWF9QQVlMT0FEX1NJWkUpOwogICAgICBjb25zdCBjaHVuayA9IG5ldyBVaW50OEFycmF5KGZpbGVEYXRhLCBwb3NpdGlvbiwgbGVuZ3RoKTsKICAgICAgcG9zaXRpb24gKz0gbGVuZ3RoOwoKICAgICAgY29uc3QgYmFzZTY0ID0gYnRvYShTdHJpbmcuZnJvbUNoYXJDb2RlLmFwcGx5KG51bGwsIGNodW5rKSk7CiAgICAgIHlpZWxkIHsKICAgICAgICByZXNwb25zZTogewogICAgICAgICAgYWN0aW9uOiAnYXBwZW5kJywKICAgICAgICAgIGZpbGU6IGZpbGUubmFtZSwKICAgICAgICAgIGRhdGE6IGJhc2U2NCwKICAgICAgICB9LAogICAgICB9OwogICAgICBwZXJjZW50LnRleHRDb250ZW50ID0KICAgICAgICAgIGAke01hdGgucm91bmQoKHBvc2l0aW9uIC8gZmlsZURhdGEuYnl0ZUxlbmd0aCkgKiAxMDApfSUgZG9uZWA7CiAgICB9CiAgfQoKICAvLyBBbGwgZG9uZS4KICB5aWVsZCB7CiAgICByZXNwb25zZTogewogICAgICBhY3Rpb246ICdjb21wbGV0ZScsCiAgICB9CiAgfTsKfQoKc2NvcGUuZ29vZ2xlID0gc2NvcGUuZ29vZ2xlIHx8IHt9OwpzY29wZS5nb29nbGUuY29sYWIgPSBzY29wZS5nb29nbGUuY29sYWIgfHwge307CnNjb3BlLmdvb2dsZS5jb2xhYi5fZmlsZXMgPSB7CiAgX3VwbG9hZEZpbGVzLAogIF91cGxvYWRGaWxlc0NvbnRpbnVlLAp9Owp9KShzZWxmKTsK",
              "ok": true,
              "headers": [
                [
                  "content-type",
                  "application/javascript"
                ]
              ],
              "status": 200,
              "status_text": ""
            }
          },
          "base_uri": "https://localhost:8080/",
          "height": 91
        },
        "id": "B_m48JSZbAcU",
        "outputId": "32405172-0998-433b-92a2-8bc406903c90"
      },
      "source": [
        "#Upload the data\n",
        "\n",
        "uploaded = files.upload()\n",
        "\n",
        "def load_file(filepath):\n",
        "\tdataframe = read_csv(filepath)\n",
        "\treturn dataframe.values\n",
        "\n",
        "data = load_file('voice.csv')\n",
        "print(data.shape)"
      ],
      "execution_count": null,
      "outputs": [
        {
          "output_type": "display_data",
          "data": {
            "text/html": [
              "\n",
              "     <input type=\"file\" id=\"files-a69b7fa7-0ba0-43ca-a7ed-13b45d4073d0\" name=\"files[]\" multiple disabled\n",
              "        style=\"border:none\" />\n",
              "     <output id=\"result-a69b7fa7-0ba0-43ca-a7ed-13b45d4073d0\">\n",
              "      Upload widget is only available when the cell has been executed in the\n",
              "      current browser session. Please rerun this cell to enable.\n",
              "      </output>\n",
              "      <script src=\"/nbextensions/google.colab/files.js\"></script> "
            ],
            "text/plain": [
              "<IPython.core.display.HTML object>"
            ]
          },
          "metadata": {
            "tags": []
          }
        },
        {
          "output_type": "stream",
          "text": [
            "Saving voice.csv to voice.csv\n",
            "(3168, 21)\n"
          ],
          "name": "stdout"
        }
      ]
    },
    {
      "cell_type": "code",
      "metadata": {
        "colab": {
          "base_uri": "https://localhost:8080/"
        },
        "id": "7EFFtXmu-YTo",
        "outputId": "e0769f7b-3fbb-4615-a1c9-b5418d228973"
      },
      "source": [
        "data"
      ],
      "execution_count": null,
      "outputs": [
        {
          "output_type": "execute_result",
          "data": {
            "text/plain": [
              "array([[0.0597809849598081, 0.0642412677031359, 0.032026913372582004,\n",
              "        ..., 0.0, 0.0, 'male'],\n",
              "       [0.066008740387572, 0.0673100287952527, 0.040228734810579, ...,\n",
              "        0.046875, 0.0526315789473684, 'male'],\n",
              "       [0.0773155026958227, 0.0838294209445061, 0.0367184586699814, ...,\n",
              "        0.0078125, 0.0465116279069767, 'male'],\n",
              "       ...,\n",
              "       [0.14205625571240602, 0.0957984262823456, 0.18373123659756999,\n",
              "        ..., 2.9296875, 0.194758620689655, 'female'],\n",
              "       [0.14365874483002697, 0.09062826099732302, 0.18497616777883702,\n",
              "        ..., 3.5859375, 0.311002178649237, 'female'],\n",
              "       [0.16550894600183702, 0.0928835369116316, 0.183043922369765, ...,\n",
              "        0.546875, 0.35, 'female']], dtype=object)"
            ]
          },
          "metadata": {
            "tags": []
          },
          "execution_count": 5
        }
      ]
    },
    {
      "cell_type": "code",
      "metadata": {
        "id": "gSDfMGZYbNo6"
      },
      "source": [
        "#data set needs to be shuffled. male and female data points are clustered. \n",
        "#\"male\" is changed to 1. and \"female\" is chnaged to 0.\n",
        "\n",
        "np.random.shuffle(data)\n",
        "data[:,20] = data[:,20] == 'male'\n",
        "\n",
        "#data is split into training and testing\n",
        "#training data set is sorted so that the first 954 rows are labeled 0 (female)\n",
        "\n",
        "data_train = data[:2000,:]\n",
        "data_test = data[2000:,:]\n",
        "data_train_sorted = data_train[np.argsort(data_train[:, 20])]"
      ],
      "execution_count": null,
      "outputs": []
    },
    {
      "cell_type": "code",
      "metadata": {
        "colab": {
          "base_uri": "https://localhost:8080/"
        },
        "id": "9tnSXJ5Y9-y3",
        "outputId": "5f815f65-b877-4af9-8071-d07ef83cbfaa"
      },
      "source": [
        "data"
      ],
      "execution_count": null,
      "outputs": [
        {
          "output_type": "execute_result",
          "data": {
            "text/plain": [
              "array([[0.19658999234914198, 0.0578336185573436, 0.21440559440559398,\n",
              "        ..., 21.4921875, 0.0824375551747416, True],\n",
              "       [0.153085133034017, 0.0670940405568626, 0.15973920130399302, ...,\n",
              "        0.7080078125, 0.548965517241379, True],\n",
              "       [0.184338938225688, 0.0551361644465135, 0.19733333333333303, ...,\n",
              "        8.71875, 0.0687927663734115, True],\n",
              "       ...,\n",
              "       [0.124061765667002, 0.08014337479360499, 0.114922118380062, ...,\n",
              "        0.390625, 0.252, True],\n",
              "       [0.186308500067875, 0.0423479650067103, 0.178274605103281, ...,\n",
              "        8.0390625, 0.0988084674863734, False],\n",
              "       [0.138869486311549, 0.100841024807477, 0.207242693773825, ...,\n",
              "        0.65625, 0.0476190476190476, False]], dtype=object)"
            ]
          },
          "metadata": {
            "tags": []
          },
          "execution_count": 7
        }
      ]
    },
    {
      "cell_type": "code",
      "metadata": {
        "colab": {
          "base_uri": "https://localhost:8080/",
          "height": 1000
        },
        "id": "WQ4jW5T9PLdk",
        "outputId": "a0c745e0-95ee-4df3-b5b9-47591544f2ce"
      },
      "source": [
        "import matplotlib.pyplot as plt\n",
        "\n",
        "for i in range(0,20):\n",
        "\n",
        "  fig1, ax1 = plt.subplots()\n",
        "  ax1.set_title('Basic Plot')\n",
        "  #ax1.update_layout(width=750, height=300)\n",
        "  ax1.boxplot(data[:,i])\n"
      ],
      "execution_count": null,
      "outputs": [
        {
          "output_type": "display_data",
          "data": {
            "image/png": "[encoded data removed]",
            "text/plain": [
              "<Figure size 432x288 with 1 Axes>"
            ]
          },
          "metadata": {
            "tags": [],
            "needs_background": "light"
          }
        },
        {
          "output_type": "display_data",
          "data": {
            "image/png": "[encoded data removed]",
            "text/plain": [
              "<Figure size 432x288 with 1 Axes>"
            ]
          },
          "metadata": {
            "tags": [],
            "needs_background": "light"
          }
        },
        {
          "output_type": "display_data",
          "data": {
            "image/png": "[encoded data removed]",
            "text/plain": [
              "<Figure size 432x288 with 1 Axes>"
            ]
          },
          "metadata": {
            "tags": [],
            "needs_background": "light"
          }
        },
        {
          "output_type": "display_data",
          "data": {
            "image/png": "[encoded data removed]",
            "text/plain": [
              "<Figure size 432x288 with 1 Axes>"
            ]
          },
          "metadata": {
            "tags": [],
            "needs_background": "light"
          }
        },
        {
          "output_type": "display_data",
          "data": {
            "image/png": "[encoded data removed]",
            "text/plain": [
              "<Figure size 432x288 with 1 Axes>"
            ]
          },
          "metadata": {
            "tags": [],
            "needs_background": "light"
          }
        },
        {
          "output_type": "display_data",
          "data": {
            "image/png": "[encoded data removed]",
            "text/plain": [
              "<Figure size 432x288 with 1 Axes>"
            ]
          },
          "metadata": {
            "tags": [],
            "needs_background": "light"
          }
        },
        {
          "output_type": "display_data",
          "data": {
            "image/png": "[encoded data removed]",
            "text/plain": [
              "<Figure size 432x288 with 1 Axes>"
            ]
          },
          "metadata": {
            "tags": [],
            "needs_background": "light"
          }
        },
        {
          "output_type": "display_data",
          "data": {
            "image/png": "[encoded data removed]",
            "text/plain": [
              "<Figure size 432x288 with 1 Axes>"
            ]
          },
          "metadata": {
            "tags": [],
            "needs_background": "light"
          }
        },
        {
          "output_type": "display_data",
          "data": {
            "image/png": "[encoded data removed]",
            "text/plain": [
              "<Figure size 432x288 with 1 Axes>"
            ]
          },
          "metadata": {
            "tags": [],
            "needs_background": "light"
          }
        },
        {
          "output_type": "display_data",
          "data": {
            "image/png": "[encoded data removed]",
            "text/plain": [
              "<Figure size 432x288 with 1 Axes>"
            ]
          },
          "metadata": {
            "tags": [],
            "needs_background": "light"
          }
        },
        {
          "output_type": "display_data",
          "data": {
            "image/png": "[encoded data removed]",
            "text/plain": [
              "<Figure size 432x288 with 1 Axes>"
            ]
          },
          "metadata": {
            "tags": [],
            "needs_background": "light"
          }
        },
        {
          "output_type": "display_data",
          "data": {
            "image/png": "[encoded data removed]",
            "text/plain": [
              "<Figure size 432x288 with 1 Axes>"
            ]
          },
          "metadata": {
            "tags": [],
            "needs_background": "light"
          }
        },
        {
          "output_type": "display_data",
          "data": {
            "image/png": "[encoded data removed]",
            "text/plain": [
              "<Figure size 432x288 with 1 Axes>"
            ]
          },
          "metadata": {
            "tags": [],
            "needs_background": "light"
          }
        },
        {
          "output_type": "display_data",
          "data": {
            "image/png": "[encoded data removed]",
            "text/plain": [
              "<Figure size 432x288 with 1 Axes>"
            ]
          },
          "metadata": {
            "tags": [],
            "needs_background": "light"
          }
        },
        {
          "output_type": "display_data",
          "data": {
            "image/png": "[encoded data removed]",
            "text/plain": [
              "<Figure size 432x288 with 1 Axes>"
            ]
          },
          "metadata": {
            "tags": [],
            "needs_background": "light"
          }
        },
        {
          "output_type": "display_data",
          "data": {
            "image/png": "[encoded data removed]",
            "text/plain": [
              "<Figure size 432x288 with 1 Axes>"
            ]
          },
          "metadata": {
            "tags": [],
            "needs_background": "light"
          }
        },
        {
          "output_type": "display_data",
          "data": {
            "image/png": "[encoded data removed]",
            "text/plain": [
              "<Figure size 432x288 with 1 Axes>"
            ]
          },
          "metadata": {
            "tags": [],
            "needs_background": "light"
          }
        },
        {
          "output_type": "display_data",
          "data": {
            "image/png": "[encoded data removed]",
            "text/plain": [
              "<Figure size 432x288 with 1 Axes>"
            ]
          },
          "metadata": {
            "tags": [],
            "needs_background": "light"
          }
        },
        {
          "output_type": "display_data",
          "data": {
            "image/png": "[encoded data removed]",
            "text/plain": [
              "<Figure size 432x288 with 1 Axes>"
            ]
          },
          "metadata": {
            "tags": [],
            "needs_background": "light"
          }
        },
        {
          "output_type": "display_data",
          "data": {
            "image/png": "[encoded data removed]",
            "text/plain": [
              "<Figure size 432x288 with 1 Axes>"
            ]
          },
          "metadata": {
            "tags": [],
            "needs_background": "light"
          }
        }
      ]
    },
    {
      "cell_type": "code",
      "metadata": {
        "id": "H8oN4Jbuc03D"
      },
      "source": [
        "#labels are separated from variables\n",
        "\n",
        "Xtrain = data_train_sorted[:,0:20]\n",
        "Xtest = data_test[:,0:20]\n",
        "Xctrain = data_train_sorted[:,20]\n",
        "Xctest = data_test[:,20]"
      ],
      "execution_count": null,
      "outputs": []
    },
    {
      "cell_type": "code",
      "metadata": {
        "id": "R4TmT8WpQH3m"
      },
      "source": [
        "T, P = PCA(Xtrain.astype(float),4)"
      ],
      "execution_count": null,
      "outputs": []
    },
    {
      "cell_type": "code",
      "metadata": {
        "id": "LWZ3SRgiQVFt"
      },
      "source": [
        "T_Female=T[0:977,:]\n",
        "T_Male=T[977:,:]"
      ],
      "execution_count": null,
      "outputs": []
    },
    {
      "cell_type": "code",
      "metadata": {
        "colab": {
          "base_uri": "https://localhost:8080/",
          "height": 265
        },
        "id": "0UPRu7gIQjB2",
        "outputId": "8a6fa8be-f618-4b90-cd1e-6932975832ee"
      },
      "source": [
        "plt.scatter(T_Female[:,0],T_Female[:,1], c = 'r', marker = '.')\n",
        "plt.scatter(T_Male[:,0],T_Male[:,1], c = 'b',marker = '.')\n",
        "\n",
        "plt.ion()\n",
        "plt.show()"
      ],
      "execution_count": null,
      "outputs": [
        {
          "output_type": "display_data",
          "data": {
            "image/png": "[encoded data removed]",
            "text/plain": [
              "<Figure size 432x288 with 1 Axes>"
            ]
          },
          "metadata": {
            "tags": [],
            "needs_background": "light"
          }
        }
      ]
    },
    {
      "cell_type": "code",
      "metadata": {
        "colab": {
          "base_uri": "https://localhost:8080/",
          "height": 265
        },
        "id": "YzNKjSEuRSLN",
        "outputId": "61c7a573-3b01-41d9-b0c6-de91ce0b7073"
      },
      "source": [
        "plt.scatter(T_Female[:,1],T_Female[:,2], c = 'r', marker = '.')\n",
        "plt.scatter(T_Male[:,1],T_Male[:,2], c = 'b',marker = '.')\n",
        "\n",
        "plt.ion()\n",
        "plt.show()"
      ],
      "execution_count": null,
      "outputs": [
        {
          "output_type": "display_data",
          "data": {
            "image/png": "[encoded data removed]",
            "text/plain": [
              "<Figure size 432x288 with 1 Axes>"
            ]
          },
          "metadata": {
            "tags": [],
            "needs_background": "light"
          }
        }
      ]
    },
    {
      "cell_type": "code",
      "metadata": {
        "colab": {
          "base_uri": "https://localhost:8080/"
        },
        "id": "_WZNYSGW92Sh",
        "outputId": "cc09cc9f-8da2-40e6-a511-55240a00d930"
      },
      "source": [
        "Xctest"
      ],
      "execution_count": null,
      "outputs": [
        {
          "output_type": "execute_result",
          "data": {
            "text/plain": [
              "array([False, True, True, ..., True, False, False], dtype=object)"
            ]
          },
          "metadata": {
            "tags": []
          },
          "execution_count": 87
        }
      ]
    },
    {
      "cell_type": "code",
      "metadata": {
        "id": "-OX_l1LQDEtb"
      },
      "source": [
        "#Cross validation sets\n",
        "\n",
        "train_kcross1 = data_train[500:,:]\n",
        "train_kcross2 = np.concatenate([data_train[:500,:], data_train[1000:,:]])\n",
        "train_kcross3 = np.concatenate([data_train[:1000,:], data_train[1500:,:]])\n",
        "train_kcross4 = data_train[:1500,:]\n",
        "Train_Data = [train_kcross1[:,0:20],train_kcross2[:,0:20],train_kcross3[:,0:20],train_kcross4[:,0:20]]\n",
        "Train_Labels = [train_kcross1[:,20],train_kcross2[:,20],train_kcross3[:,20],train_kcross4[:,20]]\n",
        "\n",
        "test_kcross1 = data_train[:500,:]\n",
        "test_kcross2 = data_train[500:1000,:]\n",
        "test_kcross3 = data_train[1000:1500,:]\n",
        "test_kcross4 = data_train[1500:2000,:]\n",
        "Test_Data = [test_kcross1[:,0:20],test_kcross2[:,0:20],test_kcross3[:,0:20],test_kcross4[:,0:20]]\n",
        "Test_Labels = [test_kcross1[:,20],test_kcross2[:,20],test_kcross3[:,20],test_kcross4[:,20]]"
      ],
      "execution_count": null,
      "outputs": []
    },
    {
      "cell_type": "code",
      "metadata": {
        "id": "pxdtbA8LNeXE",
        "colab": {
          "base_uri": "https://localhost:8080/"
        },
        "outputId": "6db75eaf-85ae-49f2-c1eb-66f7fed1c0ba"
      },
      "source": [
        "k_iterations = (11,21,31,41)\n",
        "accuracy =  np.ones((4,len(k_iterations)))\n",
        "for a in range(4):\n",
        "  Test_data = Test_Data[a]\n",
        "  Test_labels = Test_Labels[a]\n",
        "  Train_data = Train_Data[a]\n",
        "  Train_labels = Train_Labels[a]\n",
        "  count = 0\n",
        "\n",
        "  for j in (k_iterations):\n",
        "    k = j\n",
        "    dist = np.zeros(len(Test_labels))\n",
        "    errors = np.zeros(len(Test_labels))\n",
        "\n",
        "    for i in range(len(Test_labels)):\n",
        "      dist = np.sum((Train_data - Test_data[i,:])**2,axis = 1)**0.5\n",
        "      sortIndex = np.argsort(dist)\n",
        "      bestLabels = Train_labels[sortIndex[0:k]]\n",
        "      prediction = (sum(bestLabels) > k/2.0)*1.0\n",
        "      errors[i] = (Train_labels[i] != prediction)*1.0\n",
        "    \n",
        "    accuracy[a,count] = ((len(Test_labels)-np.sum(errors))/len(Test_labels))\n",
        "    count = count+1\n",
        "\n",
        "print(accuracy)\n",
        "\n",
        "\n",
        "\n",
        "\n",
        "\n"
      ],
      "execution_count": null,
      "outputs": [
        {
          "output_type": "stream",
          "text": [
            "[[0.498 0.498 0.476 0.504]\n",
            " [0.538 0.538 0.53  0.52 ]\n",
            " [0.48  0.498 0.492 0.486]\n",
            " [0.508 0.5   0.504 0.506]]\n"
          ],
          "name": "stdout"
        }
      ]
    },
    {
      "cell_type": "code",
      "metadata": {
        "colab": {
          "base_uri": "https://localhost:8080/"
        },
        "id": "Qg7O9JwfahLG",
        "outputId": "d3688b49-41d0-4c8a-bacd-7f042b439dd8"
      },
      "source": [
        "Average_acc = np.mean(accuracy, axis=0)\n",
        "print(Average_acc)\n",
        "Best = np.argmax(Average_acc)\n"
      ],
      "execution_count": null,
      "outputs": [
        {
          "output_type": "stream",
          "text": [
            "[0.506  0.5085 0.5005 0.504 ]\n"
          ],
          "name": "stdout"
        }
      ]
    },
    {
      "cell_type": "code",
      "metadata": {
        "colab": {
          "base_uri": "https://localhost:8080/"
        },
        "id": "XxOXG4-pdWIz",
        "outputId": "38d26ea0-3989-4141-8db3-f827f4f61569"
      },
      "source": [
        "#k nearest neighbours algorithm\n",
        "knn_TRAIN_ON = time.perf_counter()\n",
        "k = k_iterations[Best]\n",
        "dist = np.zeros(1168)\n",
        "errors = np.zeros(1168)\n",
        "Knn_score = np.zeros(1168)\n",
        "predicted_values = np.zeros(1168)\n",
        "for i in range(1168):\n",
        "    count=0\n",
        "    dist = np.sum((Xtrain - Xtest[i,:])**2,axis = 1)**0.5\n",
        "    sortIndex = np.argsort(dist)\n",
        "    bestLabels = Xctrain[sortIndex[0:k]]\n",
        "    prediction = (sum(bestLabels) > k/2.0)*1.0\n",
        "    predicted_values[i] = prediction\n",
        "    errors[i] = (Xctest[i] != prediction)*1.0\n",
        "    for j in range(len(bestLabels)):\n",
        "      if bestLabels[j] == True:\n",
        "        count = count + 1\n",
        "    Knn_score[i] = count/k\n",
        "print(\"total errors = \", np.sum(errors))\n",
        "\n",
        "acc = ((1168-np.sum(errors))/1168)\n",
        "print(\"Accuracy=\", acc)\n",
        "\n",
        "print(\"done\")\n",
        "\n",
        "\n",
        "knn_TRAIN_OFF = time.perf_counter()\n",
        "print(f\"Training/Testing time for KNN {knn_TRAIN_OFF-knn_TRAIN_ON:0.4f} seconds\")"
      ],
      "execution_count": null,
      "outputs": [
        {
          "output_type": "stream",
          "text": [
            "total errors =  356.0\n",
            "Accuracy= 0.6952054794520548\n",
            "done\n",
            "Training/Testing time for KNN 7.9428 seconds\n"
          ],
          "name": "stdout"
        }
      ]
    },
    {
      "cell_type": "code",
      "metadata": {
        "colab": {
          "base_uri": "https://localhost:8080/"
        },
        "id": "Zmwj17DuY8sp",
        "outputId": "e6606376-4269-4840-fd1a-2ea34cc44559"
      },
      "source": [
        "#confusion Matrix for KNN\n",
        "TP = 0\n",
        "TN = 0\n",
        "FP = 0\n",
        "FN = 0\n",
        "for i  in range(len(Xctest)):\n",
        "    if predicted_values[i] == 1:\n",
        "        if predicted_values[i] == Xctest[i]:\n",
        "            TP = TP + 1\n",
        "        else:\n",
        "            FP = FP + 1\n",
        "    elif predicted_values[i] == 0:\n",
        "        if predicted_values[i] == Xctest[i]:\n",
        "            TN = TN + 1\n",
        "        else:\n",
        "            FN = FN + 1\n",
        "\n",
        "print(\"confusion matrix: KNN\")  \n",
        "print(\"TP\",TP)\n",
        "print(\"TN\",TN)\n",
        "print(\"FP\",FP)\n",
        "print(\"FN\",FN)\n",
        "print(\"\\n\")   \n"
      ],
      "execution_count": null,
      "outputs": [
        {
          "output_type": "stream",
          "text": [
            "confusion matrix: KNN\n",
            "TP 407\n",
            "TN 405\n",
            "FP 202\n",
            "FN 154\n",
            "\n",
            "\n"
          ],
          "name": "stdout"
        }
      ]
    },
    {
      "cell_type": "code",
      "metadata": {
        "colab": {
          "base_uri": "https://localhost:8080/",
          "height": 297
        },
        "id": "VYL4WUDKXsu8",
        "outputId": "569d0572-5e8f-4489-a41c-a6469b6f0277"
      },
      "source": [
        "#ROC algoritm for KNN\n",
        "arg_sort_scores = np.argsort(Knn_score)[::-1]\n",
        "sort_scores = np.sort(Knn_score)[::-1]\n",
        "predicted_class_sorted = predicted_values[arg_sort_scores]\n",
        "class_test_sorted = Xctest[arg_sort_scores]\n",
        "\n",
        "N=FP+TN \n",
        "P=TP+FN\n",
        "\n",
        "T=0\n",
        "F=0\n",
        "\n",
        "FP_R = np.zeros(len(predicted_class_sorted))\n",
        "TP_R = np.zeros(len(predicted_class_sorted))\n",
        "F_prev =0\n",
        "count = 0\n",
        "for i  in range(len(predicted_class_sorted)):\n",
        "  if sort_scores[i] != F_prev:\n",
        "    FP_R[i]=(F/N)\n",
        "    TP_R[i]=(T/P)\n",
        "    count=count+1\n",
        "  if class_test_sorted[i] == True:\n",
        "    T = T + 1\n",
        "  else:\n",
        "    F=F+1\n",
        "FP_R[i]=(F/N)\n",
        "TP_R[i]=(T/P)\n",
        "\n",
        "plt.figure(\"ROC_Test\")\n",
        "plt.xlabel(\"FP rate\")\n",
        "plt.ylabel(\"TP rate\")\n",
        "\n",
        "plt.scatter(FP_R,TP_R)  \n",
        "\n",
        "\n"
      ],
      "execution_count": null,
      "outputs": [
        {
          "output_type": "execute_result",
          "data": {
            "text/plain": [
              "<matplotlib.collections.PathCollection at 0x7fb8c0387898>"
            ]
          },
          "metadata": {
            "tags": []
          },
          "execution_count": 93
        },
        {
          "output_type": "display_data",
          "data": {
            "image/png": "[encoded data removed]",
            "text/plain": [
              "<Figure size 432x288 with 1 Axes>"
            ]
          },
          "metadata": {
            "tags": [],
            "needs_background": "light"
          }
        }
      ]
    },
    {
      "cell_type": "code",
      "metadata": {
        "id": "o7ybyODbFk0O",
        "colab": {
          "base_uri": "https://localhost:8080/"
        },
        "outputId": "e5c70986-d10b-4565-a598-83d3c7fc574b"
      },
      "source": [
        "#Import knearest neighbors Classifier model to compare with our algorithm\n",
        "from sklearn.neighbors import KNeighborsClassifier\n",
        "\n",
        "#Create KNN Classifier\n",
        "knn = KNeighborsClassifier(n_neighbors=k_iterations[Best])\n",
        "\n",
        "#Train the model using the training sets\n",
        "knn.fit(Xtrain, Xctrain.astype(int))\n",
        "\n",
        "#Predict the response for test dataset\n",
        "y_pred = knn.predict(Xtest)\n",
        "print('sklearn knn number of errors is:') \n",
        "print(np.sum(y_pred != Xctest))"
      ],
      "execution_count": null,
      "outputs": [
        {
          "output_type": "stream",
          "text": [
            "sklearn knn number of errors is:\n",
            "356\n"
          ],
          "name": "stdout"
        }
      ]
    },
    {
      "cell_type": "code",
      "metadata": {
        "colab": {
          "base_uri": "https://localhost:8080/",
          "height": 297
        },
        "id": "MYhtfxfud2MB",
        "outputId": "035eef03-4e51-4262-b519-38bae23caf76"
      },
      "source": [
        "#compare Sklearn ROC implementation with our algorithim\n",
        "# convert true and false lables to 1 and 0 \n",
        "test_label =np.ones(len(Xctest))\n",
        "true=0\n",
        "false=0\n",
        "for i in range(len(Xctest)):\n",
        "  Xctest[i]\n",
        "  if Xctest[i] == True:\n",
        "    true = true+1\n",
        "    test_label[i] = 1\n",
        "  if Xctest[i] == False:\n",
        "    false=false+1\n",
        "    test_label[i] = 0\n",
        "\n",
        "# Predict probablities of test data [0,1]\n",
        "scores = list(knn.predict_proba(Xtest)[:,1])\n",
        "sort = np.argsort(scores)[::-1]\n",
        "scores_sorted = np.sort(scores)[::-1]\n",
        "Xtest_sorted = Xtest[sort,:]\n",
        "\n",
        "from sklearn.metrics import roc_curve\n",
        "fpr = dict()\n",
        "tpr = dict()\n",
        "roc = dict()\n",
        "fpr, tpr, _ = roc_curve(test_label, scores)\n",
        "plt.figure(\"ROC\")\n",
        "plt.xlabel(\"FP rate\")\n",
        "plt.ylabel(\"TP rate\")\n",
        "plt.scatter(fpr,tpr)"
      ],
      "execution_count": null,
      "outputs": [
        {
          "output_type": "execute_result",
          "data": {
            "text/plain": [
              "<matplotlib.collections.PathCollection at 0x7fb8c0374978>"
            ]
          },
          "metadata": {
            "tags": []
          },
          "execution_count": 95
        },
        {
          "output_type": "display_data",
          "data": {
            "image/png": "[encoded data removed]",
            "text/plain": [
              "<Figure size 432x288 with 1 Axes>"
            ]
          },
          "metadata": {
            "tags": [],
            "needs_background": "light"
          }
        }
      ]
    },
    {
      "cell_type": "code",
      "metadata": {
        "id": "06Hla5mabdS9",
        "colab": {
          "base_uri": "https://localhost:8080/"
        },
        "outputId": "4486be07-0411-48ad-9e97-e2dc2f3d25a4"
      },
      "source": [
        "#training the naive bayes model\n",
        "#splitting the training set to Femal and Male\n",
        "NB_TRAIN_ON = time.perf_counter()\n",
        "\n",
        "Xtrain_F = Xtrain[:977,:]\n",
        "Xtrain_M = Xtrain[977:,:]\n",
        "Xctrain_F = Xctrain[:977]\n",
        "Xctrain_M = Xctrain[977:]\n",
        "\n",
        "#evaluate the means and standard deviations\n",
        "\n",
        "Xtrain_F_mean = Xtrain_F.mean(axis=0)\n",
        "Xtrain_M_mean = Xtrain_M.mean(axis=0)\n",
        "Xtrain_F_var = np.var(Xtrain_F[:], axis=0)\n",
        "Xtrain_M_var = np.var(Xtrain_M[:], axis=0)\n",
        "\n",
        "\n",
        "Xtrain_F_std = np.ones_like(Xtrain_F_var)\n",
        "for i in range(20):\n",
        "  Xtrain_F_std[i] = np.sqrt(Xtrain_F_var[i])\n",
        "\n",
        "Xtrain_M_std = np.ones_like(Xtrain_M_var)\n",
        "for i in range(20):\n",
        "  Xtrain_M_std[i] = np.sqrt(Xtrain_M_var[i])\n",
        "\n",
        "NB_TRAIN_OFF = time.perf_counter()\n",
        "print(f\"Training time for NB {NB_TRAIN_OFF-NB_TRAIN_ON:0.4f} seconds\")"
      ],
      "execution_count": null,
      "outputs": [
        {
          "output_type": "stream",
          "text": [
            "Training time for NB 0.0125 seconds\n"
          ],
          "name": "stdout"
        }
      ]
    },
    {
      "cell_type": "code",
      "metadata": {
        "id": "HoGxR3IicNbZ"
      },
      "source": [
        "#define probaibility density function that returns probability density given the value, mean and std\n",
        "\n",
        "def prob_density_norm(v, mean, std):\n",
        "  c = 1/(np.sqrt(2*np.pi)*std)\n",
        "  prob_density = c*np.exp(-((v-mean)**2)/(2*std**2))\n",
        "  return prob_density"
      ],
      "execution_count": null,
      "outputs": []
    },
    {
      "cell_type": "code",
      "metadata": {
        "id": "_ppLZbAvxjTZ",
        "colab": {
          "base_uri": "https://localhost:8080/"
        },
        "outputId": "a464a4ab-22dd-4145-843f-136351b66cf8"
      },
      "source": [
        "#running the naive bayes model\n",
        "NB_TEST_ON = time.perf_counter()\n",
        "\n",
        "prediction_bay=np.ones_like(Xctest)\n",
        "Score_Male =np.ones(len(Xctest))\n",
        "for j in range(1168):\n",
        "  p_female = 977/2000\n",
        "  p_male = 1023/2000\n",
        "  for i in range(20):\n",
        "    p_female = p_female*prob_density_norm(Xtest[j,i],Xtrain_F_mean[i],Xtrain_F_std[i])\n",
        "    p_male = p_male*prob_density_norm(Xtest[j,i],Xtrain_M_mean[i],Xtrain_M_std[i])\n",
        "    \n",
        "  Score_Male[j] =  p_male\n",
        "  prediction_bay[j] = p_female<p_male\n",
        "\n",
        "#evaluate the naive bayes model best on testing dataset \n",
        "np.sum(prediction_bay!=Xctest)\n",
        "\n",
        "NB_TEST_OFF = time.perf_counter()\n",
        "print(f\"Testing time for NB {NB_TEST_OFF-NB_TEST_ON:0.4f} seconds\")"
      ],
      "execution_count": null,
      "outputs": [
        {
          "output_type": "stream",
          "text": [
            "Testing time for NB 0.3288 seconds\n"
          ],
          "name": "stdout"
        }
      ]
    },
    {
      "cell_type": "code",
      "metadata": {
        "colab": {
          "base_uri": "https://localhost:8080/"
        },
        "id": "D9kQZTsgXMBu",
        "outputId": "b2be532a-2241-42ea-ee09-325b1dda5249"
      },
      "source": [
        "#confusion matrix naive bayes\n",
        "\n",
        "TP = 0\n",
        "TN = 0\n",
        "FP = 0\n",
        "FN = 0\n",
        "for i  in range(len(Xctest)):\n",
        "    if prediction_bay[i] == 1:\n",
        "        if prediction_bay[i] == Xctest[i]:\n",
        "            TP = TP + 1\n",
        "        else:\n",
        "            FP = FP + 1\n",
        "    elif prediction_bay[i] == 0:\n",
        "        if prediction_bay[i] == Xctest[i]:\n",
        "            TN = TN + 1\n",
        "        else:\n",
        "            FN = FN + 1\n",
        "\n",
        "print(\"confusion matrix: naive bayes\")    \n",
        "print(\"TP\",TP)\n",
        "print(\"TN\",TN)\n",
        "print(\"FP\",FP)\n",
        "print(\"FN\",FN)\n",
        "print(\"\\n\")   \n",
        "\n"
      ],
      "execution_count": null,
      "outputs": [
        {
          "output_type": "stream",
          "text": [
            "confusion matrix: naive bayes\n",
            "TP 495\n",
            "TN 535\n",
            "FP 72\n",
            "FN 66\n",
            "\n",
            "\n"
          ],
          "name": "stdout"
        }
      ]
    },
    {
      "cell_type": "code",
      "metadata": {
        "colab": {
          "base_uri": "https://localhost:8080/",
          "height": 297
        },
        "id": "0OaX8QE7szFp",
        "outputId": "8cd2b077-c8a9-4fb2-8e4f-f7b8d8db7c4c"
      },
      "source": [
        "#ROC algoritm for Naive Bayes \n",
        "arg_sort_scores = np.argsort(Score_Male)[::-1]\n",
        "sort_scores = np.sort(Score_Male)[::-1]\n",
        "predicted_class_sorted = prediction_bay[arg_sort_scores]\n",
        "class_test_sorted = Xctest[arg_sort_scores]\n",
        "\n",
        "N=FP+TN\n",
        "P=TP+FN\n",
        "\n",
        "T=0\n",
        "F=0\n",
        "\n",
        "FP_R = np.ones(len(predicted_class_sorted))\n",
        "TP_R = np.ones(len(predicted_class_sorted))\n",
        "F_prev =0\n",
        "for i  in range(len(predicted_class_sorted)):\n",
        "  if sort_scores[i] != F_prev:\n",
        "    FP_R[i]=(F/N)\n",
        "    TP_R[i]=(T/P)\n",
        "  if class_test_sorted[i] == True:\n",
        "    T = T + 1\n",
        "  else:\n",
        "    F=F+1\n",
        "FP_R[i]=(F/N)\n",
        "TP_R[i]=(T/P)\n",
        "\n",
        "plt.figure(\"ROC_Test\")\n",
        "plt.xlabel(\"FP rate\")\n",
        "plt.ylabel(\"TP rate\")\n",
        "\n",
        "plt.scatter(FP_R,TP_R)  "
      ],
      "execution_count": null,
      "outputs": [
        {
          "output_type": "execute_result",
          "data": {
            "text/plain": [
              "<matplotlib.collections.PathCollection at 0x7fb8d4cdff60>"
            ]
          },
          "metadata": {
            "tags": []
          },
          "execution_count": 100
        },
        {
          "output_type": "display_data",
          "data": {
            "image/png": "[encoded data removed]",
            "text/plain": [
              "<Figure size 432x288 with 1 Axes>"
            ]
          },
          "metadata": {
            "tags": [],
            "needs_background": "light"
          }
        }
      ]
    },
    {
      "cell_type": "code",
      "metadata": {
        "colab": {
          "base_uri": "https://localhost:8080/",
          "height": 334
        },
        "id": "gEYkKnRGxg79",
        "outputId": "a7abca25-b433-4c73-b123-1c087ff92e26"
      },
      "source": [
        "#Import Naive Bayes model to compare with our algorithm\n",
        "from sklearn.naive_bayes import GaussianNB\n",
        "NB = GaussianNB()\n",
        "#NB.fit(Xtrain, train_label)\n",
        "NB.fit(Xtrain,  Xctrain.astype(int))\n",
        "\n",
        "predictions = list(NB.predict(Xtest))\n",
        "print(np.sum(predictions!=Xctest))\n",
        "print(\"Accuracy=\", (len(predictions)-np.sum(predictions!=Xctest))/len(predictions))\n",
        "\n",
        "\n",
        "#compare Skleran ROC to our algorithim\n",
        "# Predict probablities of test data [0,1]\n",
        "scores = list(NB.predict_proba(Xtest)[:,1])\n",
        "sort = np.argsort(scores)[::-1]\n",
        "scores_sorted = np.sort(scores)[::-1]\n",
        "Xtest_sorted = Xtest[sort,:]\n",
        "\n",
        "\n",
        "from sklearn.metrics import roc_curve\n",
        "fpr_1 = dict()\n",
        "tpr_1 = dict()\n",
        "roc_1 = dict()\n",
        "fpr_1, tpr_1, _ = roc_curve(test_label, Score_Male)\n",
        "plt.figure(\"ROC\")\n",
        "plt.xlabel(\"FP rate\")\n",
        "plt.ylabel(\"TP rate\")\n",
        "\n",
        "plt.scatter(fpr_1,tpr_1)  \n",
        "\n",
        "\n"
      ],
      "execution_count": null,
      "outputs": [
        {
          "output_type": "stream",
          "text": [
            "142\n",
            "Accuracy= 0.8784246575342466\n"
          ],
          "name": "stdout"
        },
        {
          "output_type": "execute_result",
          "data": {
            "text/plain": [
              "<matplotlib.collections.PathCollection at 0x7fb8bfff0f98>"
            ]
          },
          "metadata": {
            "tags": []
          },
          "execution_count": 101
        },
        {
          "output_type": "display_data",
          "data": {
            "image/png": "[encoded data removed]",
            "text/plain": [
              "<Figure size 432x288 with 1 Axes>"
            ]
          },
          "metadata": {
            "tags": [],
            "needs_background": "light"
          }
        }
      ]
    },
    {
      "cell_type": "code",
      "metadata": {
        "colab": {
          "base_uri": "https://localhost:8080/",
          "height": 370
        },
        "id": "4OXYSgLOT2NZ",
        "outputId": "0f3fcefc-050e-4869-9bd8-be4eb549a975"
      },
      "source": [
        "#SKlearn Adaboost implementation\n",
        "from sklearn.ensemble import AdaBoostClassifier\n",
        "\n",
        "clf =  AdaBoostClassifier(n_estimators=10)\n",
        "\n",
        "\n",
        "clf.fit(Xtrain, Xctrain.astype(int))\n",
        "\n",
        "\n",
        "y_pred = clf.predict(Xtest)\n",
        "\n",
        "print('sklearn AdaBoost number of errors is:') \n",
        "print(np.sum(y_pred != Xctest))\n",
        "\n",
        "\n",
        "# Predict probablities of test data [0,1]\n",
        "scores = list(clf.predict_proba(Xtest)[:,1])\n",
        "sort = np.argsort(scores)[::-1]\n",
        "scores_sorted = np.sort(scores)[::-1]\n",
        "Xtest_sorted = Xtest[sort,:]\n",
        "\n",
        "\n",
        "from sklearn.metrics import roc_curve\n",
        "fpr = dict()\n",
        "tpr = dict()\n",
        "roc = dict()\n",
        "fpr, tpr, _ = roc_curve(test_label, scores)\n",
        "plt.figure(\"ROC\")\n",
        "plt.xlabel(\"FP rate\")\n",
        "plt.ylabel(\"TP rate\")\n",
        "\n",
        "plt.scatter(fpr,tpr)  "
      ],
      "execution_count": null,
      "outputs": [
        {
          "output_type": "stream",
          "text": [
            "Training time for AB 0.1135 seconds\n",
            "Testing time for AB 0.0104 seconds\n",
            "sklearn AdaBoost number of errors is:\n",
            "44\n"
          ],
          "name": "stdout"
        },
        {
          "output_type": "execute_result",
          "data": {
            "text/plain": [
              "<matplotlib.collections.PathCollection at 0x7fb8c006cc88>"
            ]
          },
          "metadata": {
            "tags": []
          },
          "execution_count": 103
        },
        {
          "output_type": "display_data",
          "data": {
            "image/png": "[encoded data removed]",
            "text/plain": [
              "<Figure size 432x288 with 1 Axes>"
            ]
          },
          "metadata": {
            "tags": [],
            "needs_background": "light"
          }
        }
      ]
    },
    {
      "cell_type": "code",
      "metadata": {
        "id": "o-D-5NjSHeSP",
        "colab": {
          "base_uri": "https://localhost:8080/"
        },
        "outputId": "c2fdf5a1-d7a3-4e27-ab99-9b9a1a7369f6"
      },
      "source": [
        "\n",
        "# Decision stump used as weak classifier\n",
        "class DecisionStump():\n",
        "    def __init__(self):\n",
        "        self.polarity = 1\n",
        "        self.feature_idx = None\n",
        "        self.threshold = None\n",
        "        self.alpha = None\n",
        "\n",
        "    def predict(self, X):\n",
        "        n_samples = X.shape[0]\n",
        "        X_column = X[:, self.feature_idx]\n",
        "        predictions = np.ones(n_samples)\n",
        "        if self.polarity == 1:\n",
        "            predictions[X_column < self.threshold] = -1\n",
        "        else:\n",
        "            predictions[X_column > self.threshold] = -1\n",
        "            \n",
        "        return predictions\n",
        "\n",
        "\n",
        "class Adaboost():\n",
        "\n",
        "    def __init__(self, n_clf=5):\n",
        "        self.n_clf = n_clf\n",
        "\n",
        "    def fit(self, X, y):\n",
        "        n_samples, n_features = X.shape\n",
        "\n",
        "        # Initialize weights to 1/N\n",
        "        w = np.full(n_samples, (1 / n_samples))\n",
        "\n",
        "        self.clfs = []\n",
        "        # Iterate through classifiers\n",
        "        for _ in range(self.n_clf):\n",
        "            clf = DecisionStump()\n",
        "\n",
        "            min_error = float('inf')\n",
        "            # greedy search to find best threshold and feature\n",
        "            for feature_i in range(n_features):\n",
        "                X_column = X[:, feature_i]\n",
        "                thresholds = np.unique(X_column)\n",
        "\n",
        "                for threshold in thresholds:\n",
        "                    # predict with polarity 1\n",
        "                    p = 1\n",
        "                    predictions = np.ones(n_samples)\n",
        "                    predictions[X_column < threshold] = -1\n",
        "\n",
        "                    # Error = sum of weights of misclassified samples\n",
        "                    misclassified = w[y != predictions]\n",
        "                    error = sum(misclassified)\n",
        "\n",
        "                    if error > 0.5:\n",
        "                        error = 1 - error\n",
        "                        p = -1\n",
        "\n",
        "                    # store the best configuration\n",
        "                    if error < min_error:\n",
        "                        clf.polarity = p\n",
        "                        clf.threshold = threshold\n",
        "                        clf.feature_idx = feature_i\n",
        "                        min_error = error\n",
        "\n",
        "            # calculate alpha\n",
        "            EPS = 1e-10\n",
        "            clf.alpha = 0.5 * np.log((1.0 - min_error + EPS) / (min_error + EPS))\n",
        "\n",
        "            # calculate predictions and update weights\n",
        "            predictions = clf.predict(X)\n",
        "\n",
        "            w *= np.exp(-clf.alpha * y * predictions)\n",
        "            # Normalize to one\n",
        "            w /= np.sum(w)\n",
        "\n",
        "            # Save classifier\n",
        "            self.clfs.append(clf)\n",
        "\n",
        "    def predict(self, X):\n",
        "        clf_preds = [clf.alpha * clf.predict(X) for clf in self.clfs]\n",
        "        y_pred = np.sum(clf_preds, axis=0)\n",
        "        y_pred = np.sign(y_pred)\n",
        "\n",
        "        return y_pred\n",
        "\n",
        "\n",
        "from sklearn import datasets\n",
        "from sklearn.model_selection import train_test_split\n",
        "\n",
        "\n",
        "def accuracy(y_true, y_pred):\n",
        "    accuracy = np.sum(y_true == y_pred) / len(y_true)\n",
        "    return accuracy\n",
        "\n",
        "\n",
        "Xctrain[Xctrain == 0] = -1\n",
        "Xctest[Xctest == 0] = -1\n",
        "\n",
        "# Adaboost classification with 5 weak classifiers\n",
        "\n",
        "AB_TRAIN_ON = time.perf_counter()\n",
        "\n",
        "clf = Adaboost(n_clf=10)\n",
        "clf.fit(Xtrain.astype(float), Xctrain.astype(float))\n",
        "\n",
        "AB_TRAIN_OFF = time.perf_counter()\n",
        "print(f\"Training time for AB {AB_TRAIN_OFF-AB_TRAIN_ON:0.4f} seconds\")\n",
        "\n",
        "AB_TEST_ON = time.perf_counter()\n",
        "\n",
        "y_pred_ada = clf.predict(Xtest.astype(float))\n",
        "\n",
        "\n",
        "AB_TEST_OFF = time.perf_counter()\n",
        "print(f\"Testing time for AB {AB_TEST_OFF-AB_TEST_ON:0.4f} seconds\")\n",
        "\n",
        "#change Xctest\n",
        "\n",
        "acc = accuracy(Xctest.astype(float), y_pred_ada)\n",
        "print (\"Accuracy:\", acc)"
      ],
      "execution_count": null,
      "outputs": [
        {
          "output_type": "stream",
          "text": [
            "Training time for AB 97.0963 seconds\n",
            "Testing time for AB 0.0022 seconds\n",
            "Accuracy: 0.9674657534246576\n"
          ],
          "name": "stdout"
        }
      ]
    },
    {
      "cell_type": "code",
      "metadata": {
        "colab": {
          "base_uri": "https://localhost:8080/"
        },
        "id": "NQzI8cyUe6Au",
        "outputId": "215ee761-aeaf-4d28-cb2c-c8ea71ab4fb4"
      },
      "source": [
        "#confusion matrix AdaBoost\n",
        "\n",
        "TP = 0\n",
        "TN = 0\n",
        "FP = 0\n",
        "FN = 0\n",
        "for i  in range(len(Xctest)):\n",
        "    if y_pred_ada[i] == 1:\n",
        "        if y_pred_ada[i] == Xctest[i]:\n",
        "            TP = TP + 1\n",
        "        else:\n",
        "            FP = FP + 1\n",
        "    elif y_pred_ada[i] == -1:\n",
        "        if y_pred_ada[i] == Xctest[i]:\n",
        "            TN = TN + 1\n",
        "        else:\n",
        "            FN = FN + 1\n",
        "\n",
        "print(\"confusion matrix: AdaBoost\")    \n",
        "print(\"TP\",TP)\n",
        "print(\"TN\",TN)\n",
        "print(\"FP\",FP)\n",
        "print(\"FN\",FN)\n",
        "print(\"\\n\")   \n"
      ],
      "execution_count": null,
      "outputs": [
        {
          "output_type": "stream",
          "text": [
            "confusion matrix: AdaBoost\n",
            "TP 542\n",
            "TN 588\n",
            "FP 19\n",
            "FN 19\n",
            "\n",
            "\n"
          ],
          "name": "stdout"
        }
      ]
    },
    {
      "cell_type": "code",
      "metadata": {
        "id": "kMNPWxJ30wIZ",
        "colab": {
          "base_uri": "https://localhost:8080/",
          "height": 317
        },
        "outputId": "8ba95f1f-4617-4a9d-a513-182850e90485"
      },
      "source": [
        "import plotly.graph_objects as go\n",
        "\n",
        "fig = go.Figure(data=[go.Table(header=dict(values=['Algorithm', 'Training Time', 'Testing Time']),\n",
        "                 cells=dict(values=[['K Nearest Neighbour', 'Naive Bayes', 'Adaboost'],[(round((knn_TRAIN_OFF-knn_TRAIN_ON),3)), round((NB_TRAIN_OFF-NB_TRAIN_ON),3), round((AB_TRAIN_OFF - AB_TRAIN_ON),3)], ['NA', round((NB_TEST_OFF-NB_TEST_ON),3), round((AB_TEST_OFF - AB_TEST_ON),3)]]))\n",
        "                     ])\n",
        "fig.update_layout(width=750, height=300)\n",
        "fig.show()"
      ],
      "execution_count": null,
      "outputs": [
        {
          "output_type": "display_data",
          "data": {
            "text/html": [
              "<html>\n",
              "<head><meta charset=\"utf-8\" /></head>\n",
              "<body>\n",
              "    <div>\n",
              "            <script src=\"https://cdnjs.cloudflare.com/ajax/libs/mathjax/2.7.5/MathJax.js?config=TeX-AMS-MML_SVG\"></script><script type=\"text/javascript\">if (window.MathJax) {MathJax.Hub.Config({SVG: {font: \"STIX-Web\"}});}</script>\n",
              "                <script type=\"text/javascript\">window.PlotlyConfig = {MathJaxConfig: 'local'};</script>\n",
              "        <script src=\"https://cdn.plot.ly/plotly-latest.min.js\"></script>    \n",
              "            <div id=\"7b2c9c12-b5cd-4d6a-86a4-432fff22f144\" class=\"plotly-graph-div\" style=\"height:300px; width:750px;\"></div>\n",
              "            <script type=\"text/javascript\">\n",
              "                \n",
              "                    window.PLOTLYENV=window.PLOTLYENV || {};\n",
              "                    \n",
              "                if (document.getElementById(\"7b2c9c12-b5cd-4d6a-86a4-432fff22f144\")) {\n",
              "                    Plotly.newPlot(\n",
              "                        '7b2c9c12-b5cd-4d6a-86a4-432fff22f144',\n",
              "                        [{\"cells\": {\"values\": [[\"K Nearest Neighbour\", \"Naive Bayes\", \"Adaboost\"], [7.943, 0.013, 97.096], [\"NA\", 0.329, 0.002]]}, \"header\": {\"values\": [\"Algorithm\", \"Training Time\", \"Testing Time\"]}, \"type\": \"table\"}],\n",
              "                        {\"height\": 300, \"template\": {\"data\": {\"bar\": [{\"error_x\": {\"color\": \"#2a3f5f\"}, \"error_y\": {\"color\": \"#2a3f5f\"}, \"marker\": {\"line\": {\"color\": \"#E5ECF6\", \"width\": 0.5}}, \"type\": \"bar\"}], \"barpolar\": [{\"marker\": {\"line\": {\"color\": \"#E5ECF6\", \"width\": 0.5}}, \"type\": \"barpolar\"}], \"carpet\": [{\"aaxis\": {\"endlinecolor\": \"#2a3f5f\", \"gridcolor\": \"white\", \"linecolor\": \"white\", \"minorgridcolor\": \"white\", \"startlinecolor\": \"#2a3f5f\"}, \"baxis\": {\"endlinecolor\": \"#2a3f5f\", \"gridcolor\": \"white\", \"linecolor\": \"white\", \"minorgridcolor\": \"white\", \"startlinecolor\": \"#2a3f5f\"}, \"type\": \"carpet\"}], \"choropleth\": [{\"colorbar\": {\"outlinewidth\": 0, \"ticks\": \"\"}, \"type\": \"choropleth\"}], \"contour\": [{\"colorbar\": {\"outlinewidth\": 0, \"ticks\": \"\"}, \"colorscale\": [[0.0, \"#0d0887\"], [0.1111111111111111, \"#46039f\"], [0.2222222222222222, \"#7201a8\"], [0.3333333333333333, \"#9c179e\"], [0.4444444444444444, \"#bd3786\"], [0.5555555555555556, \"#d8576b\"], [0.6666666666666666, \"#ed7953\"], [0.7777777777777778, \"#fb9f3a\"], [0.8888888888888888, \"#fdca26\"], [1.0, \"#f0f921\"]], \"type\": \"contour\"}], \"contourcarpet\": [{\"colorbar\": {\"outlinewidth\": 0, \"ticks\": \"\"}, \"type\": \"contourcarpet\"}], \"heatmap\": [{\"colorbar\": {\"outlinewidth\": 0, \"ticks\": \"\"}, \"colorscale\": [[0.0, \"#0d0887\"], [0.1111111111111111, \"#46039f\"], [0.2222222222222222, \"#7201a8\"], [0.3333333333333333, \"#9c179e\"], [0.4444444444444444, \"#bd3786\"], [0.5555555555555556, \"#d8576b\"], [0.6666666666666666, \"#ed7953\"], [0.7777777777777778, \"#fb9f3a\"], [0.8888888888888888, \"#fdca26\"], [1.0, \"#f0f921\"]], \"type\": \"heatmap\"}], \"heatmapgl\": [{\"colorbar\": {\"outlinewidth\": 0, \"ticks\": \"\"}, \"colorscale\": [[0.0, \"#0d0887\"], [0.1111111111111111, \"#46039f\"], [0.2222222222222222, \"#7201a8\"], [0.3333333333333333, \"#9c179e\"], [0.4444444444444444, \"#bd3786\"], [0.5555555555555556, \"#d8576b\"], [0.6666666666666666, \"#ed7953\"], [0.7777777777777778, \"#fb9f3a\"], [0.8888888888888888, \"#fdca26\"], [1.0, \"#f0f921\"]], \"type\": \"heatmapgl\"}], \"histogram\": [{\"marker\": {\"colorbar\": {\"outlinewidth\": 0, \"ticks\": \"\"}}, \"type\": \"histogram\"}], \"histogram2d\": [{\"colorbar\": {\"outlinewidth\": 0, \"ticks\": \"\"}, \"colorscale\": [[0.0, \"#0d0887\"], [0.1111111111111111, \"#46039f\"], [0.2222222222222222, \"#7201a8\"], [0.3333333333333333, \"#9c179e\"], [0.4444444444444444, \"#bd3786\"], [0.5555555555555556, \"#d8576b\"], [0.6666666666666666, \"#ed7953\"], [0.7777777777777778, \"#fb9f3a\"], [0.8888888888888888, \"#fdca26\"], [1.0, \"#f0f921\"]], \"type\": \"histogram2d\"}], \"histogram2dcontour\": [{\"colorbar\": {\"outlinewidth\": 0, \"ticks\": \"\"}, \"colorscale\": [[0.0, \"#0d0887\"], [0.1111111111111111, \"#46039f\"], [0.2222222222222222, \"#7201a8\"], [0.3333333333333333, \"#9c179e\"], [0.4444444444444444, \"#bd3786\"], [0.5555555555555556, \"#d8576b\"], [0.6666666666666666, \"#ed7953\"], [0.7777777777777778, \"#fb9f3a\"], [0.8888888888888888, \"#fdca26\"], [1.0, \"#f0f921\"]], \"type\": \"histogram2dcontour\"}], \"mesh3d\": [{\"colorbar\": {\"outlinewidth\": 0, \"ticks\": \"\"}, \"type\": \"mesh3d\"}], \"parcoords\": [{\"line\": {\"colorbar\": {\"outlinewidth\": 0, \"ticks\": \"\"}}, \"type\": \"parcoords\"}], \"pie\": [{\"automargin\": true, \"type\": \"pie\"}], \"scatter\": [{\"marker\": {\"colorbar\": {\"outlinewidth\": 0, \"ticks\": \"\"}}, \"type\": \"scatter\"}], \"scatter3d\": [{\"line\": {\"colorbar\": {\"outlinewidth\": 0, \"ticks\": \"\"}}, \"marker\": {\"colorbar\": {\"outlinewidth\": 0, \"ticks\": \"\"}}, \"type\": \"scatter3d\"}], \"scattercarpet\": [{\"marker\": {\"colorbar\": {\"outlinewidth\": 0, \"ticks\": \"\"}}, \"type\": \"scattercarpet\"}], \"scattergeo\": [{\"marker\": {\"colorbar\": {\"outlinewidth\": 0, \"ticks\": \"\"}}, \"type\": \"scattergeo\"}], \"scattergl\": [{\"marker\": {\"colorbar\": {\"outlinewidth\": 0, \"ticks\": \"\"}}, \"type\": \"scattergl\"}], \"scattermapbox\": [{\"marker\": {\"colorbar\": {\"outlinewidth\": 0, \"ticks\": \"\"}}, \"type\": \"scattermapbox\"}], \"scatterpolar\": [{\"marker\": {\"colorbar\": {\"outlinewidth\": 0, \"ticks\": \"\"}}, \"type\": \"scatterpolar\"}], \"scatterpolargl\": [{\"marker\": {\"colorbar\": {\"outlinewidth\": 0, \"ticks\": \"\"}}, \"type\": \"scatterpolargl\"}], \"scatterternary\": [{\"marker\": {\"colorbar\": {\"outlinewidth\": 0, \"ticks\": \"\"}}, \"type\": \"scatterternary\"}], \"surface\": [{\"colorbar\": {\"outlinewidth\": 0, \"ticks\": \"\"}, \"colorscale\": [[0.0, \"#0d0887\"], [0.1111111111111111, \"#46039f\"], [0.2222222222222222, \"#7201a8\"], [0.3333333333333333, \"#9c179e\"], [0.4444444444444444, \"#bd3786\"], [0.5555555555555556, \"#d8576b\"], [0.6666666666666666, \"#ed7953\"], [0.7777777777777778, \"#fb9f3a\"], [0.8888888888888888, \"#fdca26\"], [1.0, \"#f0f921\"]], \"type\": \"surface\"}], \"table\": [{\"cells\": {\"fill\": {\"color\": \"#EBF0F8\"}, \"line\": {\"color\": \"white\"}}, \"header\": {\"fill\": {\"color\": \"#C8D4E3\"}, \"line\": {\"color\": \"white\"}}, \"type\": \"table\"}]}, \"layout\": {\"annotationdefaults\": {\"arrowcolor\": \"#2a3f5f\", \"arrowhead\": 0, \"arrowwidth\": 1}, \"coloraxis\": {\"colorbar\": {\"outlinewidth\": 0, \"ticks\": \"\"}}, \"colorscale\": {\"diverging\": [[0, \"#8e0152\"], [0.1, \"#c51b7d\"], [0.2, \"#de77ae\"], [0.3, \"#f1b6da\"], [0.4, \"#fde0ef\"], [0.5, \"#f7f7f7\"], [0.6, \"#e6f5d0\"], [0.7, \"#b8e186\"], [0.8, \"#7fbc41\"], [0.9, \"#4d9221\"], [1, \"#276419\"]], \"sequential\": [[0.0, \"#0d0887\"], [0.1111111111111111, \"#46039f\"], [0.2222222222222222, \"#7201a8\"], [0.3333333333333333, \"#9c179e\"], [0.4444444444444444, \"#bd3786\"], [0.5555555555555556, \"#d8576b\"], [0.6666666666666666, \"#ed7953\"], [0.7777777777777778, \"#fb9f3a\"], [0.8888888888888888, \"#fdca26\"], [1.0, \"#f0f921\"]], \"sequentialminus\": [[0.0, \"#0d0887\"], [0.1111111111111111, \"#46039f\"], [0.2222222222222222, \"#7201a8\"], [0.3333333333333333, \"#9c179e\"], [0.4444444444444444, \"#bd3786\"], [0.5555555555555556, \"#d8576b\"], [0.6666666666666666, \"#ed7953\"], [0.7777777777777778, \"#fb9f3a\"], [0.8888888888888888, \"#fdca26\"], [1.0, \"#f0f921\"]]}, \"colorway\": [\"#636efa\", \"#EF553B\", \"#00cc96\", \"#ab63fa\", \"#FFA15A\", \"#19d3f3\", \"#FF6692\", \"#B6E880\", \"#FF97FF\", \"#FECB52\"], \"font\": {\"color\": \"#2a3f5f\"}, \"geo\": {\"bgcolor\": \"white\", \"lakecolor\": \"white\", \"landcolor\": \"#E5ECF6\", \"showlakes\": true, \"showland\": true, \"subunitcolor\": \"white\"}, \"hoverlabel\": {\"align\": \"left\"}, \"hovermode\": \"closest\", \"mapbox\": {\"style\": \"light\"}, \"paper_bgcolor\": \"white\", \"plot_bgcolor\": \"#E5ECF6\", \"polar\": {\"angularaxis\": {\"gridcolor\": \"white\", \"linecolor\": \"white\", \"ticks\": \"\"}, \"bgcolor\": \"#E5ECF6\", \"radialaxis\": {\"gridcolor\": \"white\", \"linecolor\": \"white\", \"ticks\": \"\"}}, \"scene\": {\"xaxis\": {\"backgroundcolor\": \"#E5ECF6\", \"gridcolor\": \"white\", \"gridwidth\": 2, \"linecolor\": \"white\", \"showbackground\": true, \"ticks\": \"\", \"zerolinecolor\": \"white\"}, \"yaxis\": {\"backgroundcolor\": \"#E5ECF6\", \"gridcolor\": \"white\", \"gridwidth\": 2, \"linecolor\": \"white\", \"showbackground\": true, \"ticks\": \"\", \"zerolinecolor\": \"white\"}, \"zaxis\": {\"backgroundcolor\": \"#E5ECF6\", \"gridcolor\": \"white\", \"gridwidth\": 2, \"linecolor\": \"white\", \"showbackground\": true, \"ticks\": \"\", \"zerolinecolor\": \"white\"}}, \"shapedefaults\": {\"line\": {\"color\": \"#2a3f5f\"}}, \"ternary\": {\"aaxis\": {\"gridcolor\": \"white\", \"linecolor\": \"white\", \"ticks\": \"\"}, \"baxis\": {\"gridcolor\": \"white\", \"linecolor\": \"white\", \"ticks\": \"\"}, \"bgcolor\": \"#E5ECF6\", \"caxis\": {\"gridcolor\": \"white\", \"linecolor\": \"white\", \"ticks\": \"\"}}, \"title\": {\"x\": 0.05}, \"xaxis\": {\"automargin\": true, \"gridcolor\": \"white\", \"linecolor\": \"white\", \"ticks\": \"\", \"title\": {\"standoff\": 15}, \"zerolinecolor\": \"white\", \"zerolinewidth\": 2}, \"yaxis\": {\"automargin\": true, \"gridcolor\": \"white\", \"linecolor\": \"white\", \"ticks\": \"\", \"title\": {\"standoff\": 15}, \"zerolinecolor\": \"white\", \"zerolinewidth\": 2}}}, \"width\": 750},\n",
              "                        {\"responsive\": true}\n",
              "                    ).then(function(){\n",
              "                            \n",
              "var gd = document.getElementById('7b2c9c12-b5cd-4d6a-86a4-432fff22f144');\n",
              "var x = new MutationObserver(function (mutations, observer) {{\n",
              "        var display = window.getComputedStyle(gd).display;\n",
              "        if (!display || display === 'none') {{\n",
              "            console.log([gd, 'removed!']);\n",
              "            Plotly.purge(gd);\n",
              "            observer.disconnect();\n",
              "        }}\n",
              "}});\n",
              "\n",
              "// Listen for the removal of the full notebook cells\n",
              "var notebookContainer = gd.closest('#notebook-container');\n",
              "if (notebookContainer) {{\n",
              "    x.observe(notebookContainer, {childList: true});\n",
              "}}\n",
              "\n",
              "// Listen for the clearing of the current output cell\n",
              "var outputEl = gd.closest('.output');\n",
              "if (outputEl) {{\n",
              "    x.observe(outputEl, {childList: true});\n",
              "}}\n",
              "\n",
              "                        })\n",
              "                };\n",
              "                \n",
              "            </script>\n",
              "        </div>\n",
              "</body>\n",
              "</html>"
            ]
          },
          "metadata": {
            "tags": []
          }
        }
      ]
    },
    {
      "cell_type": "code",
      "metadata": {
        "id": "PJUodORo7tBv"
      },
      "source": [
        ""
      ],
      "execution_count": null,
      "outputs": []
    }
  ]
}